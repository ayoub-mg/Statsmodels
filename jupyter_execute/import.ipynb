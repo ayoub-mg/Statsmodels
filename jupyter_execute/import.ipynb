{
 "cells": [
  {
   "cell_type": "markdown",
   "id": "5d5c2076",
   "metadata": {},
   "source": [
    "# Système d'importation\n",
    "\n",
    "\n",
    "`statsmodels` propose deux tournures pour importer ses fonctions et ses classes :\n",
    "\n",
    "1. [Importation de l'API pour interagir avec les différentes fonctionnalités du paquet](#importation-de-lapi)\n",
    "   <br />&nbsp;&nbsp;&nbsp;&nbsp;&nbsp;• Permet l'auto-complétion via la touche `tab`.\n",
    "\n",
    "2. [Importation directe des fonctions et classes](#importation-directe)\n",
    "    <br />&nbsp;&nbsp;&nbsp;&nbsp;&nbsp;• Épargne d'importer des modules et des méthodes non utilisés.\n",
    "\n",
    "\n",
    "\n",
    "\n",
    "## Importation de l'API\n",
    "\n",
    "Pour un usage interactif, le mécanisme d'importation recommandé est :"
   ]
  },
  {
   "cell_type": "code",
   "execution_count": 1,
   "id": "9faf5484",
   "metadata": {
    "tags": [
     "remove-output"
    ]
   },
   "outputs": [],
   "source": [
    "import statsmodels.api as sm"
   ]
  },
  {
   "cell_type": "markdown",
   "id": "edd8a7f4",
   "metadata": {},
   "source": [
    "Importer `statsmodels.api` chargera la plupart des structures publiques de `statsmodels`. La plupart des fonctions et des classes sont ainsi disponibles à un ou deux niveaux du chemin de l'import (*i.e.* un ou deux `.`), sans que l'espace de nommage `sm` soit trop encombré.\n",
    "\n",
    "\n",
    "L'interface de programmation API de `statsmodels` comporte les interfaces suivantes :\n",
    "\n",
    "- `statsmodels.api` : Modèles et méthodes d'échantillonnage. Souvent chargée avec `import statsmodels.api as sm`.\n",
    "- `statsmodels.tsa.api` : Méthodes et modèles de traitement des séries temporelles. Généralement importé moyennant `import statsmodels.tsa.api as tsa`.\n",
    "- `statsmodels.formula.api` : Interface spécifiant les modèles au travers des formules analogues à celles du langage R et des dataframes. Peut être chargée par `import statsmodels.formula.api as smf`.\n",
    "\n",
    "\n",
    "Pour répertorier les fonctions et classes offertes, il est possible d'utiliser la commande `dir` :"
   ]
  },
  {
   "cell_type": "code",
   "execution_count": 2,
   "id": "84f86687",
   "metadata": {
    "tags": [
     "output_scroll"
    ]
   },
   "outputs": [
    {
     "data": {
      "text/plain": [
       "['BayesGaussMI',\n",
       " 'BinomialBayesMixedGLM',\n",
       " 'Factor',\n",
       " 'GEE',\n",
       " 'GLM',\n",
       " 'GLMGam',\n",
       " 'GLS',\n",
       " 'GLSAR',\n",
       " 'GeneralizedPoisson',\n",
       " 'Logit',\n",
       " 'MANOVA',\n",
       " 'MI',\n",
       " 'MICE',\n",
       " 'MICEData',\n",
       " 'MNLogit',\n",
       " 'MixedLM',\n",
       " 'NegativeBinomial',\n",
       " 'NegativeBinomialP',\n",
       " 'NominalGEE',\n",
       " 'OLS',\n",
       " 'OrdinalGEE',\n",
       " 'PCA',\n",
       " 'PHReg',\n",
       " 'Poisson',\n",
       " 'PoissonBayesMixedGLM',\n",
       " 'ProbPlot',\n",
       " 'Probit',\n",
       " 'QuantReg',\n",
       " 'RLM',\n",
       " 'RecursiveLS',\n",
       " 'SurvfuncRight',\n",
       " 'WLS',\n",
       " 'ZeroInflatedGeneralizedPoisson',\n",
       " 'ZeroInflatedNegativeBinomialP',\n",
       " 'ZeroInflatedPoisson',\n",
       " '__all__',\n",
       " '__builtins__',\n",
       " '__cached__',\n",
       " '__doc__',\n",
       " '__file__',\n",
       " '__loader__',\n",
       " '__name__',\n",
       " '__package__',\n",
       " '__spec__',\n",
       " '__version__',\n",
       " '__version_tuple__',\n",
       " 'add_constant',\n",
       " 'categorical',\n",
       " 'cov_struct',\n",
       " 'datasets',\n",
       " 'distributions',\n",
       " 'duration',\n",
       " 'emplike',\n",
       " 'families',\n",
       " 'formula',\n",
       " 'gam',\n",
       " 'genmod',\n",
       " 'graphics',\n",
       " 'iolib',\n",
       " 'load',\n",
       " 'load_pickle',\n",
       " 'multivariate',\n",
       " 'nonparametric',\n",
       " 'qqline',\n",
       " 'qqplot',\n",
       " 'qqplot_2samples',\n",
       " 'regression',\n",
       " 'robust',\n",
       " 'show_versions',\n",
       " 'stats',\n",
       " 'test',\n",
       " 'tools',\n",
       " 'tsa',\n",
       " 'webdoc']"
      ]
     },
     "execution_count": 2,
     "metadata": {},
     "output_type": "execute_result"
    }
   ],
   "source": [
    "dir(sm)"
   ]
  },
  {
   "cell_type": "markdown",
   "id": "462a6273",
   "metadata": {},
   "source": [
    "## Importation directe\n",
    "\n",
    "\n",
    "Les sous-modules `statsmodels` sont classés par thème (*e.g.* `discret` pour les modèles de choix discrets, ou `tsa` pour l'analyse des séries temporelles). L'arborescence du paquet s'apparente à ce qui suit :\n",
    "\n",
    "```\n",
    "statsmodels/\n",
    "    __init__.py\n",
    "    api.py\n",
    "    discrete/\n",
    "        __init__.py\n",
    "        discrete_model.py\n",
    "        tests/\n",
    "            results/\n",
    "    tsa/\n",
    "        __init__.py\n",
    "        api.py\n",
    "        tsatools.py\n",
    "        stattools.py\n",
    "        arima_process.py\n",
    "        vector_ar/\n",
    "            __init__.py\n",
    "            var_model.py\n",
    "            tests/\n",
    "                results/\n",
    "        tests/\n",
    "            results/\n",
    "    stats/\n",
    "        __init__.py\n",
    "        api.py\n",
    "        stattools.py\n",
    "        tests/\n",
    "    tools/\n",
    "        __init__.py\n",
    "        tools.py\n",
    "        decorators.py\n",
    "        tests/\n",
    "```\n",
    "\n",
    "\n",
    "\n",
    "### Exemples\n",
    "\n",
    "Classes & Fonctions :\n",
    "```python\n",
    "from statsmodels.regression.linear_model import OLS, WLS\n",
    "from statsmodels.tools.tools import rank, add_constant\n",
    "```\n",
    "\n",
    "Modules :\n",
    "```python\n",
    "from statsmodels.datasets import macrodata\n",
    "import statsmodels.stats import diagnostic\n",
    "```\n",
    "\n",
    "Modules sous pseudonymes :\n",
    "```python\n",
    "import statsmodels.regression.linear_model as lm\n",
    "import statsmodels.stats.diagnostic as smsdia\n",
    "import statsmodels.stats.outliers_influence as oi\n",
    "```"
   ]
  }
 ],
 "metadata": {
  "jupytext": {
   "cell_metadata_filter": "-all",
   "formats": "md:myst",
   "text_representation": {
    "extension": ".md",
    "format_name": "myst",
    "format_version": 0.13,
    "jupytext_version": "1.11.5"
   }
  },
  "kernelspec": {
   "display_name": "Python 3",
   "language": "python",
   "name": "python3"
  },
  "language_info": {
   "codemirror_mode": {
    "name": "ipython",
    "version": 3
   },
   "file_extension": ".py",
   "mimetype": "text/x-python",
   "name": "python",
   "nbconvert_exporter": "python",
   "pygments_lexer": "ipython3",
   "version": "3.10.2"
  },
  "source_map": [
   14,
   35,
   38,
   52,
   55
  ]
 },
 "nbformat": 4,
 "nbformat_minor": 5
}