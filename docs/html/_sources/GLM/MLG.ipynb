{
 "cells": [
  {
   "attachments": {},
   "cell_type": "markdown",
   "metadata": {},
   "source": [
    "# Ajustement d'un Modèle Linéaire Généralisé"
   ]
  },
  {
   "attachments": {},
   "cell_type": "markdown",
   "metadata": {},
   "source": [
    "La méthode idoine pour ajuster des modèles linéaires généralisés au sein du paquet `statsmodels` est `GLM`. Les paramètres à spécifier sont :\n",
    "\n",
    "- `endog` : `array-like`\n",
    "    >Une variable de réponse endogène sous forme de tableau à une ou deux dimensions à l'image des arrays `numpy`. Les modèles de la famille binomiale prennent en charge un tableau à deux colonnes, où chaque observation est supposée être sous format  `[succès, échec]`.\n",
    "    \n",
    "- `exog` : `array-like`\n",
    "    >Un tableau $n\\times k$ où $n$ est le nombre d'observations et $k$ est le nombre de régresseurs. Un terme *intercept* n'est pas inclus par défaut et doit être spécifié (au moyen de `add_constant`). Les modèles définis au travers des formules comprennent une constante par construction.\n",
    "\n",
    "- `family` : Instance de la classe `statsmodels.api.family`\n",
    "    >Par défaut, correspond à la distribution gaussienne. Chaque constructeur de famille peut prendre en argument une fonction de lien (*i.e.* objet de type `statsmodels.api.families.family.<familyname>.Link`).\n",
    "    >Les familles de distributions implémentées sont :\n",
    "    \n",
    "    - `Family(link, variance)` &nbsp;&nbsp; : &nbsp;&nbsp;Classe parente pour les familles exponentielles;\n",
    "    - `Binomial([link])` &nbsp;&nbsp; : &nbsp;&nbsp; Distribution binomiale de la famille exponentielle;\n",
    "    - `Gamma([link])` &nbsp;&nbsp; :&nbsp;&nbsp; Distribution Gamma de la famille exponentielle;\n",
    "    - `Gaussian([link])` &nbsp;&nbsp; : &nbsp;&nbsp; Loi normale gaussienne;\n",
    "    - `InverseGaussian([link])` &nbsp;&nbsp; : &nbsp;&nbsp; Loi normale inverse;\n",
    "    - `NegativeBinomial([link, alpha])` &nbsp;&nbsp; :&nbsp;&nbsp; Loi binomiale négative;\n",
    "    - `Poisson([link])` &nbsp;&nbsp; :&nbsp;&nbsp; Loi de Poisson de la famille exponentielle.\n",
    "      \n",
    "    >Les fonctions de liens prises en charge par une distribution peuvent être obtenues via `sm.families.family.<familyname>.links`. Les fonctions les plus courantes sont : `Log()`, `Logit()`, `probit()`, `identity()`...\n",
    "\n",
    "    Seules ces combinaisons sont licites pour les familles et les fonctions de lien :\n",
    "    \n",
    "    |    Family    | `ident` | `log` | `logit` | `probit` | `cloglog` | `pow` | `opow` | `nbinom` | `loglog` | `logc` |\n",
    "    |:------------:|:-----:|:---:|:-----:|:------:|:-------:|:---:|:----:|:------:|:------:|:----:|\n",
    "    | Gaussienne     | x     | x   | x     | x      | x       | x   | x    | x      | x      |      |\n",
    "    | Inv-Gaussienne | x     | x   |       |        |         | x   |      |        |        |      |\n",
    "    | Binomiale     | x     | x   | x     | x      | x       | x   | x    |        | x      | x    |\n",
    "    | Poisson      | x     | x   |       |        |         | x   |      |        |        |      |\n",
    "    | Binomiale Négative | x     | x   |       |        |         | x   |      | x      |        |      |\n",
    "    | Gamma        | x     | x   |       |        |         | x   |      |        |        |      |\n",
    "    | Tweedie      | x     | x   |       |        |         | x   |      |        |        |      |\n",
    "\n",
    "&nbsp;&nbsp;\n",
    "- `offset` : `array_like` ou `None`\n",
    "    >Un décalage ou *offset* à ajouter au modèle. Auquel cas, doit être un array dont la longueur est égale au nombre de lignes `exog`. \n",
    "\n",
    "- `exposure` : `array_like` ou `None`\n",
    "    >Une variable d'exposition ou *exposure*, qui indique combien de temps a duré l’exposition ou le nombre de\n",
    "fois où l’événement pourrait avoir eu lieu. Le cas échéant, `Log(exposure)` sera ajouté à la prédiction linéaire du modèle. Doit correspondre à un array de même longueur que `endog`.\n",
    "\n",
    "```{admonition} Attention\n",
    ":class: warning\n",
    "La variable d'exposition n'est valide uniquement lorsque la fonction de lien est logarithmique!\n",
    "```\n",
    "\n",
    "- `freq_weights` : `array_like`\n",
    "    >Un tableau à une dimension définissant les poids des fréquences des observations. À défaut de valeur, l'algorithme remplace cet argument par un array constitué de $1$ et de longueur identique à celle de la variable `endog`. Les poids des fréquences produisent les mêmes résultats que la répétition des observations au nombre des fréquences. Les pondérations de fréquence maintiennent le nombre d'observations cohérent, mais les degrés de liberté changent pour refléter les nouveaux poids.\n",
    "\n",
    "- `var_weights` : `array_like`\n",
    "    >Un tableau à une dimension déterminant les poids des variances. À défaut de valeur, l'algorithme remplace cet argument par un array constitué de $1$ et de longueur identique à celle de la variable `endog`. Les poids des variances sont utilisés lorsque `endog` représente une moyenne. Cela repose sur l'hypothèse que l'inverse de la variance est proportionnel au poids - une observation jugée plus crédible devrait avoir moins de variance et donc avoir plus de poids.\n",
    "\n",
    "- `missing` : `str`\n",
    "    >Les options disponibles sont `none`, `drop`, et `raise`. Si `none`, aucune vérification des valeurs `nan` n'est effectuée. `drop` fait que toutes les observations avec des `nan` sont abandonnées. `raise` signale une erreur. La valeur par défaut est `none`."
   ]
  },
  {
   "attachments": {},
   "cell_type": "markdown",
   "metadata": {},
   "source": [
    "On commence par charger les paquets nécessaires, entre autres `matplotlib.pyplot` pour le traçage, `numpy` pour la manipulation des matrices et vecteurs et la génération aléatoire, ainsi que `pandas` pour le stockage des données."
   ]
  },
  {
   "cell_type": "code",
   "execution_count": 2,
   "metadata": {},
   "outputs": [],
   "source": [
    "# Affichage avec la bibliothèque graphique intégrée à Notebook\n",
    "%matplotlib inline\n",
    "\n",
    "import numpy as np\n",
    "import statsmodels.api as sm\n",
    "from scipy import stats\n",
    "from matplotlib import pyplot as plt\n",
    "\n",
    "plt.rc(\"figure\", figsize=(16,8))\n",
    "plt.rc(\"font\", size=14)"
   ]
  },
  {
   "attachments": {},
   "cell_type": "markdown",
   "metadata": {},
   "source": [
    "## GLM avec Réponse Binomiale"
   ]
  },
  {
   "attachments": {},
   "cell_type": "markdown",
   "metadata": {},
   "source": [
    "Dans un premier temps, on commence par ajuster un modèle linéaire généralisé à une variable expliquée binomiale (binaire).\n",
    "\n",
    "Pour ce faire, on invoque le jeu de données **Star98**, concernent les résultats du programme STAR mis en place par l'instance pédagogique de California lors de 1998. Les données mesurent les tests standardisés du département californien de l'éducation qui a exigé l'évaluation des élèves de la 2ème à la 11ème année par le test Stanford 9 sur une variété de sujets. Ce jeu de données compore 303 enregistrements. La variable de réponse représente le nombre d'élèves de 9ème année ayant obtenu un score supérieur à la valeur médiane nationale à l'examen de mathématiques."
   ]
  },
  {
   "cell_type": "code",
   "execution_count": 3,
   "metadata": {},
   "outputs": [
    {
     "name": "stdout",
     "output_type": "stream",
     "text": [
      "::\n",
      "\n",
      "    Number of Observations - 303 (counties in California).\n",
      "\n",
      "    Number of Variables - 13 and 8 interaction terms.\n",
      "\n",
      "    Definition of variables names::\n",
      "\n",
      "        NABOVE   - Total number of students above the national median for the\n",
      "                   math section.\n",
      "        NBELOW   - Total number of students below the national median for the\n",
      "                   math section.\n",
      "        LOWINC   - Percentage of low income students\n",
      "        PERASIAN - Percentage of Asian student\n",
      "        PERBLACK - Percentage of black students\n",
      "        PERHISP  - Percentage of Hispanic students\n",
      "        PERMINTE - Percentage of minority teachers\n",
      "        AVYRSEXP - Sum of teachers' years in educational service divided by the\n",
      "                number of teachers.\n",
      "        AVSALK   - Total salary budget including benefits divided by the number\n",
      "                   of full-time teachers (in thousands)\n",
      "        PERSPENK - Per-pupil spending (in thousands)\n",
      "        PTRATIO  - Pupil-teacher ratio.\n",
      "        PCTAF    - Percentage of students taking UC/CSU prep courses\n",
      "        PCTCHRT  - Percentage of charter schools\n",
      "        PCTYRRND - Percentage of year-round schools\n",
      "\n",
      "        The below variables are interaction terms of the variables defined\n",
      "        above.\n",
      "\n",
      "        PERMINTE_AVYRSEXP\n",
      "        PEMINTE_AVSAL\n",
      "        AVYRSEXP_AVSAL\n",
      "        PERSPEN_PTRATIO\n",
      "        PERSPEN_PCTAF\n",
      "        PTRATIO_PCTAF\n",
      "        PERMINTE_AVTRSEXP_AVSAL\n",
      "        PERSPEN_PTRATIO_PCTAF\n",
      "\n"
     ]
    }
   ],
   "source": [
    "print(sm.datasets.star98.NOTE)"
   ]
  },
  {
   "attachments": {},
   "cell_type": "markdown",
   "metadata": {},
   "source": [
    "On importe d'emblée le jeu de données, et on ajoute un terme constant aux variables expliquées exogènes :"
   ]
  },
  {
   "cell_type": "code",
   "execution_count": 4,
   "metadata": {},
   "outputs": [],
   "source": [
    "data = sm.datasets.star98.load()\n",
    "data.exog = sm.add_constant(data.exog, prepend=False)"
   ]
  },
  {
   "attachments": {},
   "cell_type": "markdown",
   "metadata": {},
   "source": [
    "La variable de réponse correspond au couple $\\rm{[Succès :}$ `NABOVE` $\\rm{,Échec :}$ `NBELOW` $]$."
   ]
  },
  {
   "cell_type": "code",
   "execution_count": 5,
   "metadata": {},
   "outputs": [
    {
     "name": "stdout",
     "output_type": "stream",
     "text": [
      "   NABOVE  NBELOW\n",
      "0   452.0   355.0\n",
      "1   144.0    40.0\n",
      "2   337.0   234.0\n",
      "3   395.0   178.0\n",
      "4     8.0    57.0\n"
     ]
    }
   ],
   "source": [
    "print(data.endog.head())"
   ]
  },
  {
   "attachments": {},
   "cell_type": "markdown",
   "metadata": {},
   "source": [
    "Les variables indépendantes comportent toutes les autres variables décrites ci-dessus, ainsi que les termes d'interaction :"
   ]
  },
  {
   "cell_type": "code",
   "execution_count": 6,
   "metadata": {},
   "outputs": [
    {
     "name": "stdout",
     "output_type": "stream",
     "text": [
      "     LOWINC   PERASIAN   PERBLACK    PERHISP  PERMINTE  AVYRSEXP    AVSALK  \\\n",
      "0  34.39730  23.299300  14.235280  11.411120  15.91837  14.70646  59.15732   \n",
      "1  17.36507  29.328380   8.234897   9.314884  13.63636  16.08324  59.50397   \n",
      "2  32.64324   9.226386  42.406310  13.543720  28.83436  14.59559  60.56992   \n",
      "3  11.90953  13.883090   3.796973  11.443110  11.11111  14.38939  58.33411   \n",
      "4  36.88889  12.187500  76.875000   7.604167  43.58974  13.90568  63.15364   \n",
      "\n",
      "   PERSPENK   PTRATIO     PCTAF  ...   PCTYRRND  PERMINTE_AVYRSEXP  \\\n",
      "0  4.445207  21.71025  57.03276  ...  22.222220         234.102872   \n",
      "1  5.267598  20.44278  64.62264  ...   0.000000         219.316851   \n",
      "2  5.482922  18.95419  53.94191  ...   0.000000         420.854496   \n",
      "3  4.165093  21.63539  49.06103  ...   7.142857         159.882095   \n",
      "4  4.324902  18.77984  52.38095  ...   0.000000         606.144976   \n",
      "\n",
      "   PERMINTE_AVSAL  AVYRSEXP_AVSAL  PERSPEN_PTRATIO  PERSPEN_PCTAF  \\\n",
      "0       941.68811        869.9948         96.50656      253.52242   \n",
      "1       811.41756        957.0166        107.68435      340.40609   \n",
      "2      1746.49488        884.0537        103.92435      295.75929   \n",
      "3       648.15671        839.3923         90.11341      204.34375   \n",
      "4      2752.85075        878.1943         81.22097      226.54248   \n",
      "\n",
      "   PTRATIO_PCTAF  PERMINTE_AVYRSEXP_AVSAL  PERSPEN_PTRATIO_PCTAF  const  \n",
      "0      1238.1955               13848.8985              5504.0352    1.0  \n",
      "1      1321.0664               13050.2233              6958.8468    1.0  \n",
      "2      1022.4252               25491.1232              5605.8777    1.0  \n",
      "3      1061.4545                9326.5797              4421.0568    1.0  \n",
      "4       983.7059               38280.2616              4254.4314    1.0  \n",
      "\n",
      "[5 rows x 21 columns]\n"
     ]
    }
   ],
   "source": [
    "print(data.exog.head())"
   ]
  },
  {
   "attachments": {},
   "cell_type": "markdown",
   "metadata": {},
   "source": [
    "À présent, on ajuste un modèle linéaire généralisé, en précisant la loi binomiale comme distribution de la réponse. Après, on affiche le résultat :"
   ]
  },
  {
   "cell_type": "code",
   "execution_count": 7,
   "metadata": {},
   "outputs": [
    {
     "name": "stdout",
     "output_type": "stream",
     "text": [
      "                  Generalized Linear Model Regression Results                   \n",
      "================================================================================\n",
      "Dep. Variable:     ['NABOVE', 'NBELOW']   No. Observations:                  303\n",
      "Model:                              GLM   Df Residuals:                      282\n",
      "Model Family:                  Binomial   Df Model:                           20\n",
      "Link Function:                    Logit   Scale:                          1.0000\n",
      "Method:                            IRLS   Log-Likelihood:                -2998.6\n",
      "Date:                  Thu, 05 Jan 2023   Deviance:                       4078.8\n",
      "Time:                          15:45:34   Pearson chi2:                 4.05e+03\n",
      "No. Iterations:                       5   Pseudo R-squ. (CS):              1.000\n",
      "Covariance Type:              nonrobust                                         \n",
      "===========================================================================================\n",
      "                              coef    std err          z      P>|z|      [0.025      0.975]\n",
      "-------------------------------------------------------------------------------------------\n",
      "LOWINC                     -0.0168      0.000    -38.749      0.000      -0.018      -0.016\n",
      "PERASIAN                    0.0099      0.001     16.505      0.000       0.009       0.011\n",
      "PERBLACK                   -0.0187      0.001    -25.182      0.000      -0.020      -0.017\n",
      "PERHISP                    -0.0142      0.000    -32.818      0.000      -0.015      -0.013\n",
      "PERMINTE                    0.2545      0.030      8.498      0.000       0.196       0.313\n",
      "AVYRSEXP                    0.2407      0.057      4.212      0.000       0.129       0.353\n",
      "AVSALK                      0.0804      0.014      5.775      0.000       0.053       0.108\n",
      "PERSPENK                   -1.9522      0.317     -6.162      0.000      -2.573      -1.331\n",
      "PTRATIO                    -0.3341      0.061     -5.453      0.000      -0.454      -0.214\n",
      "PCTAF                      -0.1690      0.033     -5.169      0.000      -0.233      -0.105\n",
      "PCTCHRT                     0.0049      0.001      3.921      0.000       0.002       0.007\n",
      "PCTYRRND                   -0.0036      0.000    -15.878      0.000      -0.004      -0.003\n",
      "PERMINTE_AVYRSEXP          -0.0141      0.002     -7.391      0.000      -0.018      -0.010\n",
      "PERMINTE_AVSAL             -0.0040      0.000     -8.450      0.000      -0.005      -0.003\n",
      "AVYRSEXP_AVSAL             -0.0039      0.001     -4.059      0.000      -0.006      -0.002\n",
      "PERSPEN_PTRATIO             0.0917      0.015      6.321      0.000       0.063       0.120\n",
      "PERSPEN_PCTAF               0.0490      0.007      6.574      0.000       0.034       0.064\n",
      "PTRATIO_PCTAF               0.0080      0.001      5.362      0.000       0.005       0.011\n",
      "PERMINTE_AVYRSEXP_AVSAL     0.0002   2.99e-05      7.428      0.000       0.000       0.000\n",
      "PERSPEN_PTRATIO_PCTAF      -0.0022      0.000     -6.445      0.000      -0.003      -0.002\n",
      "const                       2.9589      1.547      1.913      0.056      -0.073       5.990\n",
      "===========================================================================================\n"
     ]
    }
   ],
   "source": [
    "glm_binom = sm.GLM(data.endog, data.exog, family=sm.families.Binomial())\n",
    "res = glm_binom.fit()\n",
    "print(res.summary())"
   ]
  },
  {
   "attachments": {},
   "cell_type": "markdown",
   "metadata": {},
   "source": [
    "Le nombre d'épreuves binomiales (en incorporant les fréquences pour chaque observations) est :"
   ]
  },
  {
   "cell_type": "code",
   "execution_count": 8,
   "metadata": {},
   "outputs": [
    {
     "name": "stdout",
     "output_type": "stream",
     "text": [
      "Nombre total d'épreuves : 108418.0\n"
     ]
    }
   ],
   "source": [
    "print(\"Nombre total d'épreuves :\",  data.endog.iloc[:, 0].sum())"
   ]
  },
  {
   "cell_type": "markdown",
   "metadata": {},
   "source": [
    "Les valeurs de la statistique de Student pour les test élémentaires d'influence de chaque variable explicatives peuvent être récupérés au travers de :"
   ]
  },
  {
   "cell_type": "code",
   "execution_count": 9,
   "metadata": {},
   "outputs": [
    {
     "name": "stdout",
     "output_type": "stream",
     "text": [
      "LOWINC                    -38.749083\n",
      "PERASIAN                   16.504736\n",
      "PERBLACK                  -25.182189\n",
      "PERHISP                   -32.817913\n",
      "PERMINTE                    8.498271\n",
      "AVYRSEXP                    4.212479\n",
      "AVSALK                      5.774998\n",
      "PERSPENK                   -6.161911\n",
      "PTRATIO                    -5.453217\n",
      "PCTAF                      -5.168654\n",
      "PCTCHRT                     3.921200\n",
      "PCTYRRND                  -15.878260\n",
      "PERMINTE_AVYRSEXP          -7.390931\n",
      "PERMINTE_AVSAL             -8.449639\n",
      "AVYRSEXP_AVSAL             -4.059162\n",
      "PERSPEN_PTRATIO             6.321099\n",
      "PERSPEN_PCTAF               6.574347\n",
      "PTRATIO_PCTAF               5.362290\n",
      "PERMINTE_AVYRSEXP_AVSAL     7.428064\n",
      "PERSPEN_PTRATIO_PCTAF      -6.445137\n",
      "const                       1.913012\n",
      "dtype: float64\n"
     ]
    }
   ],
   "source": [
    "print(res.tvalues)"
   ]
  },
  {
   "attachments": {},
   "cell_type": "markdown",
   "metadata": {},
   "source": [
    "Il s'avère que toutes les réalisations de la statistique du test de Student sont toutes significativement supérieures à $0$, les variables explicatives ont ainsi toutes un impact sur la variable de réponse."
   ]
  },
  {
   "attachments": {},
   "cell_type": "markdown",
   "metadata": {},
   "source": [
    "Pour confirmer ce constat, nous fixons toutes les variables explicatives à une constante égale à leur moyenne et on varie la variable `LOWINC` (en première colonne) dénotant le pourcentage des étudiants à faibles revenus pour évaluer son influence sur le succès dans l'examen national de mathématiques. \n",
    "\n",
    "La méthode `scoreatpercentile()` de `stats` permet de calculer le nombre d'unités inférieurs à un quantile d'ordre passé en paramètre.  "
   ]
  },
  {
   "cell_type": "code",
   "execution_count": 10,
   "metadata": {},
   "outputs": [],
   "source": [
    "m = data.exog.mean(axis=0)\n",
    "m25 = m.copy()\n",
    "m25.iloc[0] = stats.scoreatpercentile(data.exog.iloc[:,0], 25)\n",
    "m75 = m.copy()\n",
    "m75.iloc[0] = stats.scoreatpercentile(data.exog.iloc[:,0], 75)"
   ]
  },
  {
   "attachments": {},
   "cell_type": "markdown",
   "metadata": {},
   "source": [
    "L'intervalle interquartile pour le pourcentage des étudiants à faibles revenus est donc :"
   ]
  },
  {
   "cell_type": "code",
   "execution_count": 11,
   "metadata": {},
   "outputs": [
    {
     "name": "stdout",
     "output_type": "stream",
     "text": [
      "-11.8753%\n"
     ]
    }
   ],
   "source": [
    "resp_25 = res.predict(m25)\n",
    "resp_75 = res.predict(m75)\n",
    "diff = resp_75 - resp_25\n",
    "print(\"%2.4f%%\" % (diff*100))"
   ]
  },
  {
   "attachments": {},
   "cell_type": "markdown",
   "metadata": {},
   "source": [
    "Ensuite, on représente les résultats ainsi générés dans des tracés."
   ]
  },
  {
   "cell_type": "code",
   "execution_count": 13,
   "metadata": {},
   "outputs": [],
   "source": [
    "# Nombre d'observations\n",
    "n = res.nobs\n",
    "# Valeurs observées de la variable expliquée NABOVE+NBELOW/2\n",
    "y = data.endog.iloc[:,0]/data.endog.sum(1)\n",
    "# Valeurs ajustées\n",
    "yhat = res.mu"
   ]
  },
  {
   "attachments": {},
   "cell_type": "markdown",
   "metadata": {},
   "source": [
    "La fonction `abline_plot` permet de tracer des droites d'ajustement ou de régression à un nuage de points."
   ]
  },
  {
   "cell_type": "code",
   "execution_count": 14,
   "metadata": {},
   "outputs": [
    {
     "data": {
      "text/plain": [
       "Text(0.5, 0, 'Valeurs Ajustées')"
      ]
     },
     "execution_count": 14,
     "metadata": {},
     "output_type": "execute_result"
    },
    {
     "data": {
      "image/png": "[encoded data removed]",
      "text/plain": [
       "<Figure size 1152x576 with 1 Axes>"
      ]
     },
     "metadata": {
      "needs_background": "light"
     },
     "output_type": "display_data"
    }
   ],
   "source": [
    "from statsmodels.graphics.api import abline_plot\n",
    "\n",
    "fig, ax = plt.subplots()\n",
    "ax.scatter(yhat, y)\n",
    "line_fit = sm.OLS(y, sm.add_constant(yhat, prepend=True)).fit()\n",
    "abline_plot(model_results=line_fit, ax=ax)\n",
    "\n",
    "ax.set_title('Ajustement du Modèle GLM')\n",
    "ax.set_ylabel('Valeurs Observées')\n",
    "ax.set_xlabel('Valeurs Ajustées')\n"
   ]
  },
  {
   "cell_type": "code",
   "execution_count": 15,
   "metadata": {},
   "outputs": [
    {
     "data": {
      "text/plain": [
       "Text(0.5, 0, 'Valeurs Ajustées')"
      ]
     },
     "execution_count": 15,
     "metadata": {},
     "output_type": "execute_result"
    },
    {
     "data": {
      "image/png": "[encoded data removed]",
      "text/plain": [
       "<Figure size 1152x576 with 1 Axes>"
      ]
     },
     "metadata": {
      "needs_background": "light"
     },
     "output_type": "display_data"
    }
   ],
   "source": [
    "fig, ax = plt.subplots()\n",
    "\n",
    "ax.scatter(yhat, res.resid_pearson)\n",
    "ax.hlines(0, 0, 1)\n",
    "ax.set_xlim(0, 1)\n",
    "ax.set_title(\"Distribution des Résidus de l'ajustement\")\n",
    "ax.set_ylabel('Résidus')\n",
    "ax.set_xlabel('Valeurs Ajustées')"
   ]
  },
  {
   "cell_type": "code",
   "execution_count": 22,
   "metadata": {},
   "outputs": [
    {
     "data": {
      "image/png": "[encoded data removed]",
      "text/plain": [
       "<Figure size 1152x576 with 1 Axes>"
      ]
     },
     "metadata": {
      "needs_background": "light"
     },
     "output_type": "display_data"
    }
   ],
   "source": [
    "from statsmodels import graphics\n",
    "graphics.gofplots.qqplot(res.resid_deviance.copy(), line='r')\n",
    "plt.show()"
   ]
  },
  {
   "attachments": {},
   "cell_type": "markdown",
   "metadata": {},
   "source": [
    "## GLM avec Réponse Gaussienne"
   ]
  },
  {
   "attachments": {},
   "cell_type": "markdown",
   "metadata": {},
   "source": [
    "On génére $100$ observations d'un modèle linéaire généralisé $\\ln(y_i)=\\exp(-0.03x_i+0.0001x_i^2-1)+\\varepsilon_i$, et on essaie d'adapter un modèle linéaire généralisé dessus, en précisant une distribution gaussienne à la réponse avec une fonction de lien logarithmique $\\log$."
   ]
  },
  {
   "cell_type": "code",
   "execution_count": 19,
   "metadata": {},
   "outputs": [],
   "source": [
    "n = 100\n",
    "x = np.arange(n)\n",
    "np.random.seed(54321)\n",
    "X = np.column_stack((x,x**2))\n",
    "X = sm.add_constant(X, prepend=False)\n",
    "lny = np.exp(-(.03*x + .0001*x**2 - 1.0)) + .001 * np.random.rand(n)"
   ]
  },
  {
   "cell_type": "code",
   "execution_count": 21,
   "metadata": {},
   "outputs": [
    {
     "name": "stdout",
     "output_type": "stream",
     "text": [
      "                 Generalized Linear Model Regression Results                  \n",
      "==============================================================================\n",
      "Dep. Variable:                      y   No. Observations:                  100\n",
      "Model:                            GLM   Df Residuals:                       97\n",
      "Model Family:                Gaussian   Df Model:                            2\n",
      "Link Function:                    log   Scale:                      1.0531e-07\n",
      "Method:                          IRLS   Log-Likelihood:                 662.92\n",
      "Date:                Thu, 05 Jan 2023   Deviance:                   1.0215e-05\n",
      "Time:                        16:18:42   Pearson chi2:                 1.02e-05\n",
      "No. Iterations:                     7   Pseudo R-squ. (CS):              1.000\n",
      "Covariance Type:            nonrobust                                         \n",
      "==============================================================================\n",
      "                 coef    std err          z      P>|z|      [0.025      0.975]\n",
      "------------------------------------------------------------------------------\n",
      "x1            -0.0300    5.6e-06  -5361.316      0.000      -0.030      -0.030\n",
      "x2         -9.939e-05   1.05e-07   -951.091      0.000   -9.96e-05   -9.92e-05\n",
      "const          1.0003   5.39e-05   1.86e+04      0.000       1.000       1.000\n",
      "==============================================================================\n"
     ]
    }
   ],
   "source": [
    "gauss = sm.GLM(lny, X, family=sm.families.Gaussian(sm.families.links.log()))\n",
    "resultats = gauss.fit()\n",
    "print(resultats.summary())"
   ]
  },
  {
   "attachments": {},
   "cell_type": "markdown",
   "metadata": {},
   "source": [
    "```{admonition} Conclusion\n",
    ":class: tip\n",
    "Le pseudo-coefficient de détermination de Cox & Snell $R_{\\text{CS}}^{2}=1-\\left({\\frac {L_{0}}{L_{M}}}\\right)^{2/n}$, correspondant à l'équivalent du coefficient de détermination ordinaire pour les GLMs est égal à $1$, confirmant le modèle théorique ci-dessus.\n",
    "```"
   ]
  }
 ],
 "metadata": {
  "kernelspec": {
   "display_name": "Python 3 (ipykernel)",
   "language": "python",
   "name": "python3"
  },
  "language_info": {
   "codemirror_mode": {
    "name": "ipython",
    "version": 3
   },
   "file_extension": ".py",
   "mimetype": "text/x-python",
   "name": "python",
   "nbconvert_exporter": "python",
   "pygments_lexer": "ipython3",
   "version": "3.10.2"
  },
  "orig_nbformat": 4,
  "vscode": {
   "interpreter": {
    "hash": "aee8b7b246df8f9039afb4144a1f6fd8d2ca17a180786b69acc140d282b71a49"
   }
  }
 },
 "nbformat": 4,
 "nbformat_minor": 2
}
