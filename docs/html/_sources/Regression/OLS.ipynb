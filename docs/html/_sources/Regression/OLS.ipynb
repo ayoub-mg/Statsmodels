{
 "cells": [
  {
   "attachments": {},
   "cell_type": "markdown",
   "metadata": {},
   "source": [
    "# Exemple de Régression par les Moindres Carrés (OLS)"
   ]
  },
  {
   "attachments": {},
   "cell_type": "markdown",
   "metadata": {},
   "source": [
    "La méthode canonique du paquet `statsmodels` pour l'ajustement des modèles de régression linéaire selon le critère des moindres carrés (OLS) est la méthode `OLS`.\n",
    "\n",
    "Les paramètres pris en charge par cette fonction :\n",
    "- `endog` : `array-like`\n",
    "    >Une variable de réponse endogène sous forme d'objet compatible avec les arrays à une dimension `numpy`.\n",
    "\n",
    "- `exog` : `array-like`\n",
    "    >Un tableau $n\\times k$ où $n$ est le nombre d'observations et $k$ est le nombre de régresseurs. Un terme *intercept* n'est pas inclus par défaut et doit être spécifié (au moyen de `add_constant`).\n",
    "\n",
    "- `missing` : `str`\n",
    "    >Les options disponibles sont `none`, `drop`, et `raise`. Si `none`, aucune vérification des valeurs `nan` n'est effectuée. `drop` fait que toutes les observations avec des `nan` sont abandonnées. `raise` signale une erreur. La valeur par défaut est `none`."
   ]
  },
  {
   "attachments": {},
   "cell_type": "markdown",
   "metadata": {},
   "source": [
    "On commence par charger les paquets nécessaires, entre autres `matplotlib.pyplot` pour le traçage, `numpy` pour la manipulation des matrices et vecteurs et la génération aléatoire, ainsi que `pandas` pour le stockage des données."
   ]
  },
  {
   "cell_type": "code",
   "execution_count": 43,
   "metadata": {},
   "outputs": [],
   "source": [
    "# Affichage avec la bibliothèque graphique intégrée à Notebook\n",
    "%matplotlib inline\n",
    "\n",
    "import matplotlib.pyplot as plt\n",
    "import numpy as np\n",
    "import pandas as pd\n",
    "import statsmodels.api as sm\n",
    "from statsmodels.sandbox.regression.predstd import wls_prediction_std\n",
    "\n",
    "np.random.seed(7890)"
   ]
  },
  {
   "cell_type": "markdown",
   "metadata": {},
   "source": [
    "## Estimation Linéaire par les Moindres Carrés"
   ]
  },
  {
   "attachments": {},
   "cell_type": "markdown",
   "metadata": {},
   "source": [
    "On commence par générer un échantillon de $n=100$ observations du modèle $y_i=1+0.1x_i+10x_i^2+\\varepsilon_i$ où $\\varepsilon_i\\sim\\mathcal N(0,1)$. Cet échantillon servera de référence pour l'ajustement ci-après du modèle de régression linéaire de la variable $y$ sur les variables $x$ et $x^2$."
   ]
  },
  {
   "cell_type": "code",
   "execution_count": 44,
   "metadata": {},
   "outputs": [],
   "source": [
    "n = 100\n",
    "x = np.linspace(0, 10, 100)\n",
    "X = np.column_stack((x, x ** 2))\n",
    "beta = np.array([1, 0.1, 10])\n",
    "e = np.random.normal(size=n)"
   ]
  },
  {
   "attachments": {},
   "cell_type": "markdown",
   "metadata": {},
   "source": [
    "Aucune constante n'est ajoutée au modèle. Il faut entasser une colonne de $1$ manuellement."
   ]
  },
  {
   "cell_type": "code",
   "execution_count": 45,
   "metadata": {},
   "outputs": [],
   "source": [
    "X = sm.add_constant(X)\n",
    "y = np.dot(X, beta) + e"
   ]
  },
  {
   "attachments": {},
   "cell_type": "markdown",
   "metadata": {},
   "source": [
    "Il s'agit maintenant d'ajuster le modèle de régression linéaire par moindres carrés sur le jeu de donnéees en enchaînant la méthode `fit()` sur le modèle résultant de l'appel `OLS()`. Puis, on affiche le résultat par la méthode `summary()`."
   ]
  },
  {
   "cell_type": "code",
   "execution_count": 46,
   "metadata": {},
   "outputs": [
    {
     "data": {
      "text/html": [
       "<table class=\"simpletable\">\n",
       "<caption>OLS Regression Results</caption>\n",
       "<tr>\n",
       "  <th>Dep. Variable:</th>            <td>y</td>        <th>  R-squared:         </th> <td>   1.000</td> \n",
       "</tr>\n",
       "<tr>\n",
       "  <th>Model:</th>                   <td>OLS</td>       <th>  Adj. R-squared:    </th> <td>   1.000</td> \n",
       "</tr>\n",
       "<tr>\n",
       "  <th>Method:</th>             <td>Least Squares</td>  <th>  F-statistic:       </th> <td>4.053e+06</td>\n",
       "</tr>\n",
       "<tr>\n",
       "  <th>Date:</th>             <td>Mon, 02 Jan 2023</td> <th>  Prob (F-statistic):</th> <td>1.92e-239</td>\n",
       "</tr>\n",
       "<tr>\n",
       "  <th>Time:</th>                 <td>01:12:41</td>     <th>  Log-Likelihood:    </th> <td> -146.14</td> \n",
       "</tr>\n",
       "<tr>\n",
       "  <th>No. Observations:</th>      <td>   100</td>      <th>  AIC:               </th> <td>   298.3</td> \n",
       "</tr>\n",
       "<tr>\n",
       "  <th>Df Residuals:</th>          <td>    97</td>      <th>  BIC:               </th> <td>   306.1</td> \n",
       "</tr>\n",
       "<tr>\n",
       "  <th>Df Model:</th>              <td>     2</td>      <th>                     </th>     <td> </td>    \n",
       "</tr>\n",
       "<tr>\n",
       "  <th>Covariance Type:</th>      <td>nonrobust</td>    <th>                     </th>     <td> </td>    \n",
       "</tr>\n",
       "</table>\n",
       "<table class=\"simpletable\">\n",
       "<tr>\n",
       "    <td></td>       <th>coef</th>     <th>std err</th>      <th>t</th>      <th>P>|t|</th>  <th>[0.025</th>    <th>0.975]</th>  \n",
       "</tr>\n",
       "<tr>\n",
       "  <th>const</th> <td>    0.6806</td> <td>    0.312</td> <td>    2.185</td> <td> 0.031</td> <td>    0.062</td> <td>    1.299</td>\n",
       "</tr>\n",
       "<tr>\n",
       "  <th>x1</th>    <td>    0.2175</td> <td>    0.144</td> <td>    1.510</td> <td> 0.134</td> <td>   -0.068</td> <td>    0.503</td>\n",
       "</tr>\n",
       "<tr>\n",
       "  <th>x2</th>    <td>    9.9890</td> <td>    0.014</td> <td>  716.877</td> <td> 0.000</td> <td>    9.961</td> <td>   10.017</td>\n",
       "</tr>\n",
       "</table>\n",
       "<table class=\"simpletable\">\n",
       "<tr>\n",
       "  <th>Omnibus:</th>       <td> 4.487</td> <th>  Durbin-Watson:     </th> <td>   2.092</td>\n",
       "</tr>\n",
       "<tr>\n",
       "  <th>Prob(Omnibus):</th> <td> 0.106</td> <th>  Jarque-Bera (JB):  </th> <td>   4.075</td>\n",
       "</tr>\n",
       "<tr>\n",
       "  <th>Skew:</th>          <td> 0.335</td> <th>  Prob(JB):          </th> <td>   0.130</td>\n",
       "</tr>\n",
       "<tr>\n",
       "  <th>Kurtosis:</th>      <td> 3.728</td> <th>  Cond. No.          </th> <td>    144.</td>\n",
       "</tr>\n",
       "</table><br/><br/>Notes:<br/>[1] Standard Errors assume that the covariance matrix of the errors is correctly specified."
      ],
      "text/plain": [
       "<class 'statsmodels.iolib.summary.Summary'>\n",
       "\"\"\"\n",
       "                            OLS Regression Results                            \n",
       "==============================================================================\n",
       "Dep. Variable:                      y   R-squared:                       1.000\n",
       "Model:                            OLS   Adj. R-squared:                  1.000\n",
       "Method:                 Least Squares   F-statistic:                 4.053e+06\n",
       "Date:                Mon, 02 Jan 2023   Prob (F-statistic):          1.92e-239\n",
       "Time:                        01:12:41   Log-Likelihood:                -146.14\n",
       "No. Observations:                 100   AIC:                             298.3\n",
       "Df Residuals:                      97   BIC:                             306.1\n",
       "Df Model:                           2                                         \n",
       "Covariance Type:            nonrobust                                         \n",
       "==============================================================================\n",
       "                 coef    std err          t      P>|t|      [0.025      0.975]\n",
       "------------------------------------------------------------------------------\n",
       "const          0.6806      0.312      2.185      0.031       0.062       1.299\n",
       "x1             0.2175      0.144      1.510      0.134      -0.068       0.503\n",
       "x2             9.9890      0.014    716.877      0.000       9.961      10.017\n",
       "==============================================================================\n",
       "Omnibus:                        4.487   Durbin-Watson:                   2.092\n",
       "Prob(Omnibus):                  0.106   Jarque-Bera (JB):                4.075\n",
       "Skew:                           0.335   Prob(JB):                        0.130\n",
       "Kurtosis:                       3.728   Cond. No.                         144.\n",
       "==============================================================================\n",
       "\n",
       "Notes:\n",
       "[1] Standard Errors assume that the covariance matrix of the errors is correctly specified.\n",
       "\"\"\""
      ]
     },
     "execution_count": 46,
     "metadata": {},
     "output_type": "execute_result"
    }
   ],
   "source": [
    "res = sm.OLS(y, X).fit()\n",
    "res.summary()"
   ]
  },
  {
   "attachments": {},
   "cell_type": "markdown",
   "metadata": {},
   "source": [
    "Les quantités d'intérêt peuvent être extraites directement du modèle ajusté. `dir(results)` pour obtenir une liste complète. Voici quelques exemples :"
   ]
  },
  {
   "cell_type": "code",
   "execution_count": 47,
   "metadata": {},
   "outputs": [
    {
     "name": "stdout",
     "output_type": "stream",
     "text": [
      "Estimations des Paramètres :  [0.6806226  0.21750693 9.98895028]\n",
      "Coefficient de détermination R2 :  0.9999880324891753\n"
     ]
    }
   ],
   "source": [
    "print(\"Estimations des Paramètres : \", res.params)\n",
    "print(\"Coefficient de détermination R2 : \", res.rsquared)"
   ]
  },
  {
   "attachments": {},
   "cell_type": "markdown",
   "metadata": {},
   "source": [
    "Force est de constater que le coefficient de détermination est proche de 1. Cela traduit que la proportion de la variabilité observée de $y$ expliquée par le modèle de régression linéaire $\\beta_0+\\beta_1x+\\beta_2x$ est plus de $99\\%$, confirmant ainsi le modèle théorique de base employé pour générer l'échantillon.\n",
    "\n",
    "L'estimation des paramètres selon le critère des moindres carrés étant très précise, les paramètres retrouvés avoisinent les valeurs théoriques $\\beta_0=1$, $\\beta_1=0.1$ et $\\beta_2=10$. "
   ]
  },
  {
   "attachments": {},
   "cell_type": "markdown",
   "metadata": {},
   "source": [
    "## Estimation Linéaire en les paramètres par les Moindres Carrés"
   ]
  },
  {
   "attachments": {},
   "cell_type": "markdown",
   "metadata": {},
   "source": [
    "```{admonition} Rappel\n",
    ":class: tip\n",
    "La désignation *linéaire* renvoie à la relation entre les paramètres $\\boldsymbol\\beta$ et la réponse $y$. $y$ est une fonction linéaire par rapport à $\\boldsymbol\\beta$, mais pas forcément de(s) variable(s) indépendante(s) (*e.g.* le modèle $y=e^x\\beta+\\varepsilon$ est bel et bien linéaire).\n",
    "```"
   ]
  },
  {
   "attachments": {},
   "cell_type": "markdown",
   "metadata": {},
   "source": [
    "On simule pour cette section un jeu de données artificel avec une relation non-linéaire entre $x$ et $y$ : $y_i=5+0.5x_i+0.5\\sin(x_i)-0.02(x_i-5)^2+\\varepsilon_i$ avec des erreurs $\\varepsilon_i\\sim\\mathcal N(0,0.5^2)$. C'est bien un modèle linéaire, car il l'est pour les paramètres."
   ]
  },
  {
   "cell_type": "code",
   "execution_count": 48,
   "metadata": {},
   "outputs": [],
   "source": [
    "sig = 0.5\n",
    "x = np.linspace(0, 20, n)\n",
    "X = np.column_stack((x, np.sin(x), (x-5)**2, np.ones(n)))\n",
    "beta = np.array([0.5, 0.5, -0.02, 5.])\n",
    "y_true = np.dot(X, beta)\n",
    "y = y_true + sig * np.random.normal(size=n)"
   ]
  },
  {
   "cell_type": "code",
   "execution_count": 49,
   "metadata": {},
   "outputs": [
    {
     "data": {
      "text/html": [
       "<table class=\"simpletable\">\n",
       "<caption>OLS Regression Results</caption>\n",
       "<tr>\n",
       "  <th>Dep. Variable:</th>            <td>y</td>        <th>  R-squared:         </th> <td>   0.926</td>\n",
       "</tr>\n",
       "<tr>\n",
       "  <th>Model:</th>                   <td>OLS</td>       <th>  Adj. R-squared:    </th> <td>   0.923</td>\n",
       "</tr>\n",
       "<tr>\n",
       "  <th>Method:</th>             <td>Least Squares</td>  <th>  F-statistic:       </th> <td>   398.0</td>\n",
       "</tr>\n",
       "<tr>\n",
       "  <th>Date:</th>             <td>Mon, 02 Jan 2023</td> <th>  Prob (F-statistic):</th> <td>5.23e-54</td>\n",
       "</tr>\n",
       "<tr>\n",
       "  <th>Time:</th>                 <td>01:12:41</td>     <th>  Log-Likelihood:    </th> <td> -73.136</td>\n",
       "</tr>\n",
       "<tr>\n",
       "  <th>No. Observations:</th>      <td>   100</td>      <th>  AIC:               </th> <td>   154.3</td>\n",
       "</tr>\n",
       "<tr>\n",
       "  <th>Df Residuals:</th>          <td>    96</td>      <th>  BIC:               </th> <td>   164.7</td>\n",
       "</tr>\n",
       "<tr>\n",
       "  <th>Df Model:</th>              <td>     3</td>      <th>                     </th>     <td> </td>   \n",
       "</tr>\n",
       "<tr>\n",
       "  <th>Covariance Type:</th>      <td>nonrobust</td>    <th>                     </th>     <td> </td>   \n",
       "</tr>\n",
       "</table>\n",
       "<table class=\"simpletable\">\n",
       "<tr>\n",
       "    <td></td>       <th>coef</th>     <th>std err</th>      <th>t</th>      <th>P>|t|</th>  <th>[0.025</th>    <th>0.975]</th>  \n",
       "</tr>\n",
       "<tr>\n",
       "  <th>x1</th>    <td>    0.4919</td> <td>    0.019</td> <td>   25.340</td> <td> 0.000</td> <td>    0.453</td> <td>    0.530</td>\n",
       "</tr>\n",
       "<tr>\n",
       "  <th>x2</th>    <td>    0.3458</td> <td>    0.075</td> <td>    4.610</td> <td> 0.000</td> <td>    0.197</td> <td>    0.495</td>\n",
       "</tr>\n",
       "<tr>\n",
       "  <th>x3</th>    <td>   -0.0201</td> <td>    0.002</td> <td>  -11.786</td> <td> 0.000</td> <td>   -0.023</td> <td>   -0.017</td>\n",
       "</tr>\n",
       "<tr>\n",
       "  <th>const</th> <td>    5.1014</td> <td>    0.126</td> <td>   40.531</td> <td> 0.000</td> <td>    4.852</td> <td>    5.351</td>\n",
       "</tr>\n",
       "</table>\n",
       "<table class=\"simpletable\">\n",
       "<tr>\n",
       "  <th>Omnibus:</th>       <td> 0.727</td> <th>  Durbin-Watson:     </th> <td>   2.516</td>\n",
       "</tr>\n",
       "<tr>\n",
       "  <th>Prob(Omnibus):</th> <td> 0.695</td> <th>  Jarque-Bera (JB):  </th> <td>   0.402</td>\n",
       "</tr>\n",
       "<tr>\n",
       "  <th>Skew:</th>          <td> 0.141</td> <th>  Prob(JB):          </th> <td>   0.818</td>\n",
       "</tr>\n",
       "<tr>\n",
       "  <th>Kurtosis:</th>      <td> 3.131</td> <th>  Cond. No.          </th> <td>    223.</td>\n",
       "</tr>\n",
       "</table><br/><br/>Notes:<br/>[1] Standard Errors assume that the covariance matrix of the errors is correctly specified."
      ],
      "text/plain": [
       "<class 'statsmodels.iolib.summary.Summary'>\n",
       "\"\"\"\n",
       "                            OLS Regression Results                            \n",
       "==============================================================================\n",
       "Dep. Variable:                      y   R-squared:                       0.926\n",
       "Model:                            OLS   Adj. R-squared:                  0.923\n",
       "Method:                 Least Squares   F-statistic:                     398.0\n",
       "Date:                Mon, 02 Jan 2023   Prob (F-statistic):           5.23e-54\n",
       "Time:                        01:12:41   Log-Likelihood:                -73.136\n",
       "No. Observations:                 100   AIC:                             154.3\n",
       "Df Residuals:                      96   BIC:                             164.7\n",
       "Df Model:                           3                                         \n",
       "Covariance Type:            nonrobust                                         \n",
       "==============================================================================\n",
       "                 coef    std err          t      P>|t|      [0.025      0.975]\n",
       "------------------------------------------------------------------------------\n",
       "x1             0.4919      0.019     25.340      0.000       0.453       0.530\n",
       "x2             0.3458      0.075      4.610      0.000       0.197       0.495\n",
       "x3            -0.0201      0.002    -11.786      0.000      -0.023      -0.017\n",
       "const          5.1014      0.126     40.531      0.000       4.852       5.351\n",
       "==============================================================================\n",
       "Omnibus:                        0.727   Durbin-Watson:                   2.516\n",
       "Prob(Omnibus):                  0.695   Jarque-Bera (JB):                0.402\n",
       "Skew:                           0.141   Prob(JB):                        0.818\n",
       "Kurtosis:                       3.131   Cond. No.                         223.\n",
       "==============================================================================\n",
       "\n",
       "Notes:\n",
       "[1] Standard Errors assume that the covariance matrix of the errors is correctly specified.\n",
       "\"\"\""
      ]
     },
     "execution_count": 49,
     "metadata": {},
     "output_type": "execute_result"
    }
   ],
   "source": [
    "res2 = sm.OLS(y, X).fit()\n",
    "res2.summary()"
   ]
  },
  {
   "attachments": {},
   "cell_type": "markdown",
   "metadata": {},
   "source": [
    "On peut extraire des quantités d'intérêt par la même façon :"
   ]
  },
  {
   "cell_type": "code",
   "execution_count": 50,
   "metadata": {},
   "outputs": [
    {
     "name": "stdout",
     "output_type": "stream",
     "text": [
      "Estimation des Paramètres :  [ 0.4918749   0.34579746 -0.02010405  5.10135543]\n",
      "Erreurs Standards : [0.01941121 0.07501281 0.0017057  0.1258622 ]\n",
      "Valeurs Prédites :  [ 4.5987543   4.80730058  5.01138378  5.20829662  5.39555668  5.57100744\n",
      "  5.73290593  5.87999367  6.01154786  6.12741073  6.227996    6.31427204\n",
      "  6.38772248  6.45028587  6.50427684  6.55229193  6.597104    6.64154944\n",
      "  6.68841284  6.74031364  6.79959971  6.86825173  6.94780274  7.03927571\n",
      "  7.14314196  7.25930198  7.38708951  7.52529857  7.6722326   7.8257734\n",
      "  7.9834673   8.14262497  8.3004308   8.45405742  8.60078069  8.73809052\n",
      "  8.86379296  8.9760994   9.07369939  9.15581386  9.22222686  9.27329435\n",
      "  9.30992968  9.33356646  9.34610027  9.34981152  9.34727275  9.34124394\n",
      "  9.33456029  9.33001689  9.33025503  9.33765478  9.35423816  9.38158694\n",
      "  9.42077827  9.47234085  9.5362335   9.61184676  9.69802769  9.79312683\n",
      "  9.8950652  10.0014189  10.10951773 10.21655373 10.31969545 10.41620307\n",
      " 10.50353988 10.57947541 10.64217619 10.69028032 10.72295283 10.73991967\n",
      " 10.74147887 10.72848838 10.7023312  10.66485912 10.61831739 10.56525344\n",
      " 10.50841322 10.45062952 10.39470678 10.34330698 10.29884142 10.2633726\n",
      " 10.23853034 10.22544551 10.22470401 10.23632295 10.25974996 10.29388563\n",
      " 10.33712826 10.38743901 10.44242477 10.49943558 10.55567233 10.60830068\n",
      " 10.6545663  10.6919069  10.71805647 10.73113744]\n",
      "Coefficient de Détermination :  0.9255894581356353\n"
     ]
    }
   ],
   "source": [
    "print(\"Estimation des Paramètres : \", res2.params)\n",
    "print(\"Erreurs Standards :\", res2.bse)\n",
    "print(\"Valeurs Prédites : \", res2.predict())\n",
    "print(\"Coefficient de Détermination : \", res2.rsquared)"
   ]
  },
  {
   "attachments": {},
   "cell_type": "markdown",
   "metadata": {},
   "source": [
    "Plus de $92\\%$ de variabilité observée de $y$ est recensée par le modèle, ce dernier s'adapte significativement bien aux données. Les estimations des paramètres sont au voisinage des paramètres théoriques réels :  $\\beta_1=0.5$, $\\beta_2=0.5$, $\\beta_3=-0.02$ et $\\beta_0=5$. "
   ]
  },
  {
   "attachments": {},
   "cell_type": "markdown",
   "metadata": {},
   "source": [
    "Il est possible de tracer un graphique pour comparer les valeurs sans bruit (*i.e.* sans $\\varepsilon$) du modèle aux prédictions par les moindres carrés ordinaires. Les intervalles de prédictions sont construits à l'aide de la commande `wls_prediction_std`."
   ]
  },
  {
   "cell_type": "code",
   "execution_count": 51,
   "metadata": {},
   "outputs": [
    {
     "data": {
      "text/plain": [
       "<matplotlib.legend.Legend at 0x14cb94b20>"
      ]
     },
     "execution_count": 51,
     "metadata": {},
     "output_type": "execute_result"
    },
    {
     "data": {
      "image/png": "[encoded data removed]",
      "text/plain": [
       "<Figure size 1080x432 with 1 Axes>"
      ]
     },
     "metadata": {
      "needs_background": "light"
     },
     "output_type": "display_data"
    }
   ],
   "source": [
    "pfstd, iv_sup, iv_inf = wls_prediction_std(res2)\n",
    "fig, ax = plt.subplots(figsize=(15,6))\n",
    "    \n",
    "ax.plot(x, y, 'o', label = 'Valeurs Réelles')\n",
    "ax.plot(x, y_true, 'b-', label='Valeurs Sans Bruit')\n",
    "ax.plot(x, res2.fittedvalues, 'r--', label='Valeurs Ajustées')\n",
    "ax.plot(x, iv_sup, 'g--', label=\"Intervalle de Prédiction\")\n",
    "ax.plot(x, iv_inf, 'g--')\n",
    "ax.legend(loc=\"best\")"
   ]
  },
  {
   "attachments": {},
   "cell_type": "markdown",
   "metadata": {},
   "source": [
    "Les valeurs ajustées sont à peu près identiques aux valeurs sans bruit, ce qui confirme la significativité de l'ajustement du modèle susmentionné aux données. L'intervalle de prédiction encapsule aussi l'écrasante majorité des valeurs observée, de par sa définition."
   ]
  }
 ],
 "metadata": {
  "kernelspec": {
   "display_name": "Python 3",
   "language": "python",
   "name": "python3"
  },
  "language_info": {
   "codemirror_mode": {
    "name": "ipython",
    "version": 3
   },
   "file_extension": ".py",
   "mimetype": "text/x-python",
   "name": "python",
   "nbconvert_exporter": "python",
   "pygments_lexer": "ipython3",
   "version": "3.10.2 (v3.10.2:a58ebcc701, Jan 13 2022, 14:50:16) [Clang 13.0.0 (clang-1300.0.29.30)]"
  },
  "vscode": {
   "interpreter": {
    "hash": "aee8b7b246df8f9039afb4144a1f6fd8d2ca17a180786b69acc140d282b71a49"
   }
  },
  "widgets": {
   "application/vnd.jupyter.widget-state+json": {
    "state": {},
    "version_major": 2,
    "version_minor": 0
   }
  }
 },
 "nbformat": 4,
 "nbformat_minor": 4
}
